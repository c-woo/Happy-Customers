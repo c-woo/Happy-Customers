{
 "cells": [
  {
   "cell_type": "markdown",
   "metadata": {},
   "source": [
    "# Titanic Dataset"
   ]
  },
  {
   "cell_type": "code",
   "execution_count": null,
   "metadata": {},
   "outputs": [],
   "source": [
    "import pandas as pd\n",
    "import numpy as np\n",
    "import matplotlib.pyplot as plt\n",
    "import seaborn as sns\n",
    "\n",
    "%matplotlib inline"
   ]
  },
  {
   "cell_type": "markdown",
   "metadata": {},
   "source": [
    "## Data Description\n",
    "\n",
    "The columns/variables in this dataset are:  \n",
    "> **PassengerId** = An index number for each passenger  \n",
    "**Survived** = Whether or not the passenger survived  \n",
    "**Pclass** = The passenger class (1 = 1st, 2 = 2nd, 3 = 3rd)  \n",
    "**Name** = The name of the passenger  \n",
    "**Sex** = The gender of the passenger  \n",
    "**Age** = The age of the passenger  \n",
    "**SibSp** = The number of siblings/spouses the passenger has  \n",
    "**Parch** = The number of parents/children the passenger has  \n",
    "**Ticket** = The ticket number  \n",
    "**Fare** = The cost of the ticket  \n",
    "**Cabin** = The passengers cabin number  \n",
    "**Embarked** = The port the passenger embarked from (C = Cherbourg, Q = Queenstown, S = Southhampton)  "
   ]
  },
  {
   "cell_type": "code",
   "execution_count": null,
   "metadata": {},
   "outputs": [],
   "source": [
    "train_df = pd.read_csv('./Data/train.csv')\n",
    "test_df = pd.read_csv('./Data/test.csv')"
   ]
  },
  {
   "cell_type": "code",
   "execution_count": null,
   "metadata": {
    "scrolled": true
   },
   "outputs": [],
   "source": [
    "train_df.head()"
   ]
  },
  {
   "cell_type": "code",
   "execution_count": null,
   "metadata": {},
   "outputs": [],
   "source": [
    "test_df.head()"
   ]
  },
  {
   "cell_type": "markdown",
   "metadata": {},
   "source": [
    "Taking a quick look at the training and test data sets, looks like all the columns are the same except for the Survived column which we will be making predictions for on the test data. Let's work on cleaning up the training data."
   ]
  },
  {
   "cell_type": "code",
   "execution_count": null,
   "metadata": {},
   "outputs": [],
   "source": [
    "train_df.info()"
   ]
  },
  {
   "cell_type": "code",
   "execution_count": null,
   "metadata": {},
   "outputs": [],
   "source": [
    "train_df.isnull().sum()"
   ]
  },
  {
   "cell_type": "markdown",
   "metadata": {},
   "source": [
    "Looks like there are some null values that need to be taken care of for the Age, Cabin, and Embarked columns. We'll start by looking at the Age column."
   ]
  },
  {
   "cell_type": "code",
   "execution_count": null,
   "metadata": {},
   "outputs": [],
   "source": [
    "print(f'Mean Age: {train_df.Age.mean()}')\n",
    "print(f'Median Age: {train_df.Age.median()}')"
   ]
  },
  {
   "cell_type": "markdown",
   "metadata": {},
   "source": [
    "We could fill the null values with either the average age or the median age of all passengers, both values being very similar. However, we can better predict age by grouping similar passengers together. We'll group passengers by Pclass and Sex, assuming that the people in each Pclass are more similar to each other than the people in other Pclasses."
   ]
  },
  {
   "cell_type": "code",
   "execution_count": null,
   "metadata": {},
   "outputs": [],
   "source": [
    "s_class = train_df.groupby(['Pclass', 'Sex'])"
   ]
  },
  {
   "cell_type": "code",
   "execution_count": null,
   "metadata": {},
   "outputs": [],
   "source": [
    "s_class.median()"
   ]
  },
  {
   "cell_type": "code",
   "execution_count": null,
   "metadata": {},
   "outputs": [],
   "source": [
    "s_class.mean()"
   ]
  },
  {
   "cell_type": "markdown",
   "metadata": {},
   "source": [
    "Just as we thought, grouping the similar passengers together gives us a much better picture of the age differences between Pclass/Sex and will allow us to make more accurate values for the null age values. Let's go ahead and fill the null age values with the median age of each group.\n",
    "\n",
    "Grouping passengers this way also shows the discrepancy in fare price between Pclass/Sex."
   ]
  },
  {
   "cell_type": "code",
   "execution_count": null,
   "metadata": {},
   "outputs": [],
   "source": [
    "train_df.loc[train_df['Age'].isnull()]"
   ]
  },
  {
   "cell_type": "code",
   "execution_count": null,
   "metadata": {},
   "outputs": [],
   "source": [
    "## replace null values with median values of each group\n",
    "\n",
    "train_df['Age'].fillna(s_class['Age'].transform('median'), inplace=True)"
   ]
  },
  {
   "cell_type": "code",
   "execution_count": null,
   "metadata": {},
   "outputs": [],
   "source": [
    "train_df['Age'].isnull().sum()"
   ]
  },
  {
   "cell_type": "code",
   "execution_count": null,
   "metadata": {},
   "outputs": [],
   "source": [
    "train_df['Cabin'].isnull().sum() / len(train_df)"
   ]
  },
  {
   "cell_type": "markdown",
   "metadata": {},
   "source": [
    "Because there are so many null values for the cabin column (77% of the cabin column is a null value), we'll remove it from the data."
   ]
  },
  {
   "cell_type": "code",
   "execution_count": null,
   "metadata": {},
   "outputs": [],
   "source": [
    "train_df.drop('Cabin', axis=1, inplace=True)\n",
    "train_df.head()"
   ]
  },
  {
   "cell_type": "code",
   "execution_count": null,
   "metadata": {},
   "outputs": [],
   "source": [
    "train_df.loc[train_df['Embarked'].isnull()]"
   ]
  },
  {
   "cell_type": "code",
   "execution_count": null,
   "metadata": {},
   "outputs": [],
   "source": [
    "train_df['Embarked'].unique()"
   ]
  },
  {
   "cell_type": "markdown",
   "metadata": {},
   "source": [
    "There are only 2 null values for the Embarked column and 3 unique values for the column. We'll try to find the most similar passengers to the rows with null values and use the embarked values that we find."
   ]
  },
  {
   "cell_type": "code",
   "execution_count": null,
   "metadata": {},
   "outputs": [],
   "source": [
    "## creating a new df so it's easier to navigate through the values\n",
    "\n",
    "em_null = train_df.loc[(train_df['Pclass'] == 1) & (train_df['Sex'] == 'female') & (train_df['Survived'] == 1) & \n",
    "                       (train_df['SibSp'] == 0) & (train_df['Parch'] == 0)]\n",
    "em_null.head()"
   ]
  },
  {
   "cell_type": "code",
   "execution_count": null,
   "metadata": {},
   "outputs": [],
   "source": [
    "## checking values for embarked for similar passengers\n",
    "\n",
    "em_null['Embarked'].value_counts()"
   ]
  },
  {
   "cell_type": "code",
   "execution_count": null,
   "metadata": {},
   "outputs": [],
   "source": [
    "## checking if filtering by age will affect the values\n",
    "\n",
    "em_null.loc[em_null['Age'] < 45]['Embarked'].value_counts()"
   ]
  },
  {
   "cell_type": "code",
   "execution_count": null,
   "metadata": {},
   "outputs": [],
   "source": [
    "em_null.loc[em_null['Age'] > 45]['Embarked'].value_counts()"
   ]
  },
  {
   "cell_type": "markdown",
   "metadata": {},
   "source": [
    "While the values in the Embarked columns are very similar when looking at similar passengers, it looks like there are more 'C' values for younger people and more 'S' values for older people. The difference isn't too skewed to be certain of these values but we'll go ahead and use 'C' for the younger passenger and 'S' for the older one."
   ]
  },
  {
   "cell_type": "code",
   "execution_count": null,
   "metadata": {},
   "outputs": [],
   "source": [
    "## replacing null values\n",
    "\n",
    "train_df.iloc[[61], [-1]] = 'C'\n",
    "train_df.iloc[[829], [-1]] = 'S'"
   ]
  },
  {
   "cell_type": "code",
   "execution_count": null,
   "metadata": {},
   "outputs": [],
   "source": [
    "train_df.info()"
   ]
  },
  {
   "cell_type": "code",
   "execution_count": null,
   "metadata": {},
   "outputs": [],
   "source": [
    "train_df.corr()"
   ]
  },
  {
   "cell_type": "markdown",
   "metadata": {},
   "source": [
    "Taking a look at correlation values, it looks like passenger id has almost 0 correlation with whether or not a person will survive, and has very low correlation with all other columns. And after taking a look at the data, it seems like the passenger id is just a random number assigned to each passenger so we'll remove the column."
   ]
  },
  {
   "cell_type": "code",
   "execution_count": null,
   "metadata": {},
   "outputs": [],
   "source": [
    "train_df.drop('PassengerId', axis=1, inplace=True)\n",
    "train_df.head()"
   ]
  },
  {
   "cell_type": "code",
   "execution_count": null,
   "metadata": {},
   "outputs": [],
   "source": [
    "train_df['Pclass'].value_counts()"
   ]
  },
  {
   "cell_type": "code",
   "execution_count": null,
   "metadata": {},
   "outputs": [],
   "source": [
    "train_df['SibSp'].value_counts()"
   ]
  },
  {
   "cell_type": "code",
   "execution_count": null,
   "metadata": {},
   "outputs": [],
   "source": [
    "train_df['Parch'].value_counts()"
   ]
  },
  {
   "cell_type": "code",
   "execution_count": null,
   "metadata": {},
   "outputs": [],
   "source": [
    "train_df['Fare'].describe()"
   ]
  },
  {
   "cell_type": "markdown",
   "metadata": {},
   "source": [
    "Taking a look at fare, it looks like there are a couple amounts with 0. Let's take a look and see if they're null values."
   ]
  },
  {
   "cell_type": "code",
   "execution_count": null,
   "metadata": {},
   "outputs": [],
   "source": [
    "train_df.loc[train_df['Fare'] == 0]"
   ]
  },
  {
   "cell_type": "markdown",
   "metadata": {},
   "source": [
    "It looks like all the passengers with a fare of 0 are male, do not have any family on board, and all departed from the same port. Since they are all in different classes, we will replace the fare with the median fare cost for each class/gender."
   ]
  },
  {
   "cell_type": "code",
   "execution_count": null,
   "metadata": {},
   "outputs": [],
   "source": [
    "train_df.groupby(['Pclass', 'Sex'])['Fare'].mean()"
   ]
  },
  {
   "cell_type": "code",
   "execution_count": null,
   "metadata": {},
   "outputs": [],
   "source": [
    "## changing the 0's to null values so that we can use the same method we used to change null values for Age\n",
    "## we can use the s_class dataframe we created earlier which grouped by pclass and sex\n",
    "\n",
    "train_df['Fare'].replace(0, np.NaN, inplace=True)\n",
    "train_df['Fare'].fillna(s_class['Fare'].transform('mean'), inplace=True)"
   ]
  },
  {
   "cell_type": "code",
   "execution_count": null,
   "metadata": {},
   "outputs": [],
   "source": [
    "## checking to see if the data was inputted correctly\n",
    "\n",
    "train_df.iloc[[179, 263, 277]]"
   ]
  },
  {
   "cell_type": "markdown",
   "metadata": {},
   "source": [
    "Now that we've taken care of the values in the training set, lets do the same for the missing values in the test dataset."
   ]
  },
  {
   "cell_type": "code",
   "execution_count": null,
   "metadata": {},
   "outputs": [],
   "source": [
    "## Looks like we have to take care of the missing values in Age, Fare, and Cabin\n",
    "\n",
    "test_df.info()"
   ]
  },
  {
   "cell_type": "code",
   "execution_count": null,
   "metadata": {},
   "outputs": [],
   "source": [
    "## we'll use the same method as we did for the training data to fill null values for Age\n",
    "\n",
    "test_df['Age'].fillna(test_df.groupby(['Pclass', 'Sex'])['Age'].transform('median'), inplace=True)"
   ]
  },
  {
   "cell_type": "code",
   "execution_count": null,
   "metadata": {},
   "outputs": [],
   "source": [
    "test_df['Age'].isnull().sum()"
   ]
  },
  {
   "cell_type": "code",
   "execution_count": null,
   "metadata": {},
   "outputs": [],
   "source": [
    "## dropping the cabin column and passenger id column\n",
    "\n",
    "test_df.drop(['PassengerId', 'Cabin'], axis=1, inplace=True)\n",
    "test_df.head()"
   ]
  },
  {
   "cell_type": "code",
   "execution_count": null,
   "metadata": {},
   "outputs": [],
   "source": [
    "## take care of null values in fare using the same methods for the training set\n",
    "\n",
    "test_df.loc[test_df['Fare'].isnull()]"
   ]
  },
  {
   "cell_type": "code",
   "execution_count": null,
   "metadata": {},
   "outputs": [],
   "source": [
    "## looks like there are also a couple 0 fare values we need to take care of\n",
    "\n",
    "test_df.loc[test_df['Fare'] == 0]"
   ]
  },
  {
   "cell_type": "code",
   "execution_count": null,
   "metadata": {},
   "outputs": [],
   "source": [
    "test_df.groupby(['Pclass', 'Sex'])['Fare'].mean()"
   ]
  },
  {
   "cell_type": "code",
   "execution_count": null,
   "metadata": {},
   "outputs": [],
   "source": [
    "test_df['Fare'].replace(0, np.NaN, inplace=True)\n",
    "test_df['Fare'].fillna(test_df.groupby(['Pclass', 'Sex'])['Fare'].transform('mean'), inplace=True)"
   ]
  },
  {
   "cell_type": "code",
   "execution_count": null,
   "metadata": {},
   "outputs": [],
   "source": [
    "test_df.iloc[[152, 266, 372]]"
   ]
  },
  {
   "cell_type": "code",
   "execution_count": null,
   "metadata": {},
   "outputs": [],
   "source": [
    "test_df.isnull().sum()"
   ]
  },
  {
   "cell_type": "markdown",
   "metadata": {},
   "source": [
    "Now that we've taken care of our data lets move on to some visualizations"
   ]
  },
  {
   "cell_type": "markdown",
   "metadata": {},
   "source": [
    "## EDA and Visualizations"
   ]
  },
  {
   "cell_type": "code",
   "execution_count": null,
   "metadata": {},
   "outputs": [],
   "source": [
    "plt.figure(figsize=(10, 8))\n",
    "sns.violinplot(x='Pclass', y='Age', hue='Survived', data=train_df, split=True)\n",
    "plt.title('Survival Rate Amongst Different Classes')\n",
    "plt.show()"
   ]
  },
  {
   "cell_type": "code",
   "execution_count": null,
   "metadata": {},
   "outputs": [],
   "source": [
    "## find the percentage of passengers that survived in each pclass\n",
    "\n",
    "train_df.groupby('Pclass')['Survived'].mean()"
   ]
  },
  {
   "cell_type": "markdown",
   "metadata": {},
   "source": [
    "Taking a look at this data there are sharp peaks around 20-35 for pclass 2 and 3, falling off quickly thereafter. However for pclass 1, there is not a sharp peak and most of the passengers survive until you get around age 45 when there are more deaths than survivors. It seems like there are younger passengers in pclass 2 and 3 when compared to pclass 1."
   ]
  },
  {
   "cell_type": "code",
   "execution_count": null,
   "metadata": {},
   "outputs": [],
   "source": [
    "print('Pclass 1 Under 45 Survival Rate: ', len(train_df.loc[(train_df['Pclass'] == 1) & (train_df['Age'] <= 45) & (train_df['Survived'] == 1)])/len(train_df.loc[(train_df['Pclass'] == 1) & (train_df['Age'] <= 45)])*100,'%')\n",
    "print('Pclass 2 Under 45 Survival Rate: ', len(train_df.loc[(train_df['Pclass'] == 2) & (train_df['Age'] <= 45) & (train_df['Survived'] == 1)])/len(train_df.loc[(train_df['Pclass'] == 2) & (train_df['Age'] <= 45)])*100,'%')\n",
    "print('Pclass 3 Under 45 Survival Rate: ', len(train_df.loc[(train_df['Pclass'] == 3) & (train_df['Age'] <= 45) & (train_df['Survived'] == 1)])/len(train_df.loc[(train_df['Pclass'] == 3) & (train_df['Age'] <= 45)])*100,'%')\n",
    "print('')\n",
    "print('Pclass 1 Over 45 Survival Rate: ', len(train_df.loc[(train_df['Pclass'] == 1) & (train_df['Age'] > 45) & (train_df['Survived'] == 1)])/len(train_df.loc[(train_df['Pclass'] == 1) & (train_df['Age'] > 45)])*100,'%')\n",
    "print('Pclass 2 Over 45 Survival Rate: ', len(train_df.loc[(train_df['Pclass'] == 2) & (train_df['Age'] > 45) & (train_df['Survived'] == 1)])/len(train_df.loc[(train_df['Pclass'] == 2) & (train_df['Age'] > 45)])*100,'%')\n",
    "print('Pclass 3 Over 45 Survival Rate: ', len(train_df.loc[(train_df['Pclass'] == 3) & (train_df['Age'] > 45) & (train_df['Survived'] == 1)])/len(train_df.loc[(train_df['Pclass'] == 3) & (train_df['Age'] > 45)])*100,'%')"
   ]
  },
  {
   "cell_type": "markdown",
   "metadata": {},
   "source": [
    "Looking at the survival rates of ages over/under 45 for all 3 classes, it is very clear that passengers in pclass 1 had a much higher chance of survival than the other pclasses. The survival rate for younger passengers is much higher for all 3 classes, with passengers under 45 having about a 20% higher chance of survival than passengers over 45. We can speculate the reasons as to why there might be such a gap in survival range between the two age groups, perhaps the younger, able bodied passengers were able to make it to the life boats more quickly or survive the frigid temperatures. The older passengers may have also given up their spots to the younger passengers out of altruism.\n",
    "\n",
    "Lets take a look to see if there are any differences in survival rate amongst genders in the pclasses."
   ]
  },
  {
   "cell_type": "code",
   "execution_count": null,
   "metadata": {},
   "outputs": [],
   "source": [
    "## create a new column that groups pclass and sex\n",
    "\n",
    "train_df['PclassSex'] = train_df['Pclass'].astype(str) + train_df['Sex']\n",
    "train_df.head()"
   ]
  },
  {
   "cell_type": "code",
   "execution_count": null,
   "metadata": {},
   "outputs": [],
   "source": [
    "plt.figure(figsize=(10, 8))\n",
    "sns.violinplot(x='PclassSex', y='Age', hue='Survived', data=train_df, split=True, order=['1male', '1female', '2male', '2female', '3male', '3female'])\n",
    "plt.title('Survival Rate Amongst Different Classes')\n",
    "plt.show()"
   ]
  },
  {
   "cell_type": "code",
   "execution_count": null,
   "metadata": {},
   "outputs": [],
   "source": [
    "print('Pclass 1 Male Survival Rate: ', len(train_df.loc[(train_df['PclassSex'] == '1male') & (train_df['Survived'] == 1)])/len(train_df.loc[train_df['PclassSex'] == '1male'])*100,'%')\n",
    "print('Pclass 2 Male Survival Rate: ', len(train_df.loc[(train_df['PclassSex'] == '2male') & (train_df['Survived'] == 1)])/len(train_df.loc[train_df['PclassSex'] == '2male'])*100,'%')\n",
    "print('Pclass 3 Male Survival Rate: ', len(train_df.loc[(train_df['PclassSex'] == '3male') & (train_df['Survived'] == 1)])/len(train_df.loc[train_df['PclassSex'] == '3male'])*100,'%')\n",
    "print('')\n",
    "print('Pclass 1 Female Survival Rate: ', len(train_df.loc[(train_df['PclassSex'] == '1female') & (train_df['Survived'] == 1)])/len(train_df.loc[train_df['PclassSex'] == '1female'])*100,'%')\n",
    "print('Pclass 2 Female Survival Rate: ', len(train_df.loc[(train_df['PclassSex'] == '2female') & (train_df['Survived'] == 1)])/len(train_df.loc[train_df['PclassSex'] == '2female'])*100,'%')\n",
    "print('Pclass 3 Female Survival Rate: ', len(train_df.loc[(train_df['PclassSex'] == '3female') & (train_df['Survived'] == 1)])/len(train_df.loc[train_df['PclassSex'] == '3female'])*100,'%')"
   ]
  },
  {
   "cell_type": "markdown",
   "metadata": {},
   "source": [
    "After splitting up the glasses into genders we can see that there is a huge discrepancy in survival rates between genders. The survival rate of males in class 1 is a little more than double the survival rate of males in classes 2-3 at 37%. Females in classes 1 and 2 had a 90+% chance of survival while females in class 3 had a 50% chance of survival. It's clear by looking at this data that most of the survivors were female and we should make sure to take this into account when making our models."
   ]
  },
  {
   "cell_type": "code",
   "execution_count": null,
   "metadata": {},
   "outputs": [],
   "source": [
    "plt.figure(figsize=(15, 5))\n",
    "sns.countplot(x='SibSp', hue='Survived', data=train_df)\n",
    "plt.title('# of Sibling/Spouse Survival Rate')\n",
    "plt.show()"
   ]
  },
  {
   "cell_type": "code",
   "execution_count": null,
   "metadata": {},
   "outputs": [],
   "source": [
    "plt.figure(figsize=(15, 5))\n",
    "sns.countplot(x='Parch', hue='Survived', data=train_df)\n",
    "plt.title('# of Parent/Child Survival Rate')\n",
    "plt.show()"
   ]
  },
  {
   "cell_type": "markdown",
   "metadata": {},
   "source": [
    "Taking a quick look at the survival rates of passengers with siblings/spouses and parents/children, it looks like most of the passengers do not have any siblings/spouses or parents/children. Lets take a look at the graph excluding those passengers to get a better look at the survival rates of passengers with siblings/spouses or parents/children."
   ]
  },
  {
   "cell_type": "code",
   "execution_count": null,
   "metadata": {},
   "outputs": [],
   "source": [
    "plt.figure(figsize=(15, 5))\n",
    "sns.countplot(x='SibSp', hue='Survived', data=train_df.loc[train_df['SibSp'] > 0])\n",
    "plt.title('# of Sibling/Spouse Survival Rate')\n",
    "plt.show()"
   ]
  },
  {
   "cell_type": "code",
   "execution_count": null,
   "metadata": {},
   "outputs": [],
   "source": [
    "plt.figure(figsize=(15, 5))\n",
    "sns.countplot(x='Parch', hue='Survived', data=train_df.loc[train_df['Parch'] > 0])\n",
    "plt.title('# of Parent/Child Survival Rate')\n",
    "plt.show()"
   ]
  },
  {
   "cell_type": "markdown",
   "metadata": {},
   "source": [
    "Taking a look at these graphs, it looks like the solo passengers without any siblings/spouses or parents/children are more likely to not survive. For passengers with company, having 1 sibling/spouse or parent/sibling increases the chance of survival while having more than that does not seem to increase the chance of survival. Since we don't know if the passengers have both siblings and parents with these graphs, lets make a new column called 'Family' that accounts for both of these values."
   ]
  },
  {
   "cell_type": "code",
   "execution_count": null,
   "metadata": {},
   "outputs": [],
   "source": [
    "## we'll add sibsp and parch to see the number of people in the family\n",
    "## we add a 1 at the end to account for the passenger as well\n",
    "\n",
    "train_df['Family'] = train_df['SibSp'] + train_df['Parch'] + 1\n",
    "train_df.head()"
   ]
  },
  {
   "cell_type": "code",
   "execution_count": null,
   "metadata": {},
   "outputs": [],
   "source": [
    "plt.figure(figsize=(15, 5))\n",
    "sns.countplot(x='Family', hue='Survived', data=train_df)\n",
    "plt.title('Survival Rate Based on Number of Family Members')\n",
    "plt.show()"
   ]
  },
  {
   "cell_type": "markdown",
   "metadata": {},
   "source": [
    "We can see that solo passengers are still at the highest risk. Passengers that have 2-4 members are more likely to survive while the survival rate starts to dip considerably for passengers with families of 5 or more. There are many reasons why this may be the case; solo passengers may not have known the ship was sinking until it was too late. People with family members could have been alerted earlier with more members being aware of what's happening around the ship. People with large families could have had a hard time gathering all the members of their family. These reasons are all just speculation on my part, but we can see that family size does have an impact on the survival rate of a passenger."
   ]
  },
  {
   "cell_type": "markdown",
   "metadata": {},
   "source": [
    "## Feature Engineering"
   ]
  },
  {
   "cell_type": "code",
   "execution_count": null,
   "metadata": {},
   "outputs": [],
   "source": [
    "train_df.head()"
   ]
  },
  {
   "cell_type": "code",
   "execution_count": null,
   "metadata": {},
   "outputs": [],
   "source": [
    "# drop columns that cannot be used in model and separate independent and dependent variables\n",
    "\n",
    "X = train_df.drop(labels=['Survived', 'Name', 'Ticket'], axis=1)\n",
    "y = train_df['Survived']"
   ]
  },
  {
   "cell_type": "code",
   "execution_count": null,
   "metadata": {},
   "outputs": [],
   "source": [
    "from sklearn.preprocessing import LabelEncoder\n",
    "encoder = LabelEncoder()\n",
    "X['Sex'] = encoder.fit_transform(X['Sex'])"
   ]
  },
  {
   "cell_type": "code",
   "execution_count": null,
   "metadata": {},
   "outputs": [],
   "source": [
    "pclasssex_dummies = pd.get_dummies(X['PclassSex'], drop_first=True)\n",
    "embarked_dummies = pd.get_dummies(X['Embarked'], drop_first=True)\n",
    "\n",
    "X.drop(['PclassSex', 'Embarked'], axis=1, inplace=True)\n",
    "X = pd.concat([X, pclasssex_dummies, embarked_dummies], axis=1)\n",
    "X.head()"
   ]
  },
  {
   "cell_type": "code",
   "execution_count": null,
   "metadata": {},
   "outputs": [],
   "source": [
    "from sklearn.model_selection import train_test_split\n",
    "\n",
    "X_train, X_test, y_train, y_test = train_test_split(X, y, random_state=23)"
   ]
  },
  {
   "cell_type": "code",
   "execution_count": null,
   "metadata": {},
   "outputs": [],
   "source": [
    "## normalize our data\n",
    "from sklearn.preprocessing import MinMaxScaler\n",
    "\n",
    "norm = MinMaxScaler().fit(X_train)\n",
    "\n",
    "X_train_norm = norm.transform(X_train)\n",
    "X_test_norm = norm.transform(X_test)"
   ]
  },
  {
   "cell_type": "code",
   "execution_count": null,
   "metadata": {},
   "outputs": [],
   "source": [
    "from sklearn.linear_model import LogisticRegression\n",
    "\n",
    "logreg = LogisticRegression(fit_intercept=False, C=1e12, solver='liblinear')\n",
    "baseline = logreg.fit(X_train, y_train)\n",
    "baseline"
   ]
  },
  {
   "cell_type": "code",
   "execution_count": null,
   "metadata": {},
   "outputs": [],
   "source": [
    "y_hat_test = logreg.predict(X_test)\n",
    "y_hat_train = logreg.predict(X_train)"
   ]
  },
  {
   "cell_type": "code",
   "execution_count": null,
   "metadata": {},
   "outputs": [],
   "source": [
    "residuals = np.abs(y_train - y_hat_train)\n",
    "print(pd.Series(residuals).value_counts())\n",
    "print(pd.Series(residuals).value_counts(normalize=True))"
   ]
  },
  {
   "cell_type": "code",
   "execution_count": null,
   "metadata": {},
   "outputs": [],
   "source": [
    "residuals = np.abs(y_test - y_hat_test)\n",
    "print(pd.Series(residuals).value_counts())\n",
    "print(pd.Series(residuals).value_counts(normalize=True))"
   ]
  },
  {
   "cell_type": "code",
   "execution_count": null,
   "metadata": {},
   "outputs": [],
   "source": [
    "normalized = logreg.fit(X_train_norm, y_train)\n",
    "normalized"
   ]
  },
  {
   "cell_type": "code",
   "execution_count": null,
   "metadata": {},
   "outputs": [],
   "source": [
    "y_hat_test = logreg.predict(X_test_norm)\n",
    "y_hat_train = logreg.predict(X_train_norm)"
   ]
  },
  {
   "cell_type": "code",
   "execution_count": null,
   "metadata": {},
   "outputs": [],
   "source": [
    "residuals = np.abs(y_train - y_hat_train)\n",
    "print(pd.Series(residuals).value_counts())\n",
    "print(pd.Series(residuals).value_counts(normalize=True))"
   ]
  },
  {
   "cell_type": "code",
   "execution_count": null,
   "metadata": {},
   "outputs": [],
   "source": [
    "residuals = np.abs(y_test - y_hat_test)\n",
    "print(pd.Series(residuals).value_counts())\n",
    "print(pd.Series(residuals).value_counts(normalize=True))"
   ]
  },
  {
   "cell_type": "code",
   "execution_count": null,
   "metadata": {},
   "outputs": [],
   "source": []
  }
 ],
 "metadata": {
  "kernelspec": {
   "display_name": "Python 3",
   "language": "python",
   "name": "python3"
  },
  "language_info": {
   "codemirror_mode": {
    "name": "ipython",
    "version": 3
   },
   "file_extension": ".py",
   "mimetype": "text/x-python",
   "name": "python",
   "nbconvert_exporter": "python",
   "pygments_lexer": "ipython3",
   "version": "3.7.3"
  }
 },
 "nbformat": 4,
 "nbformat_minor": 2
}
